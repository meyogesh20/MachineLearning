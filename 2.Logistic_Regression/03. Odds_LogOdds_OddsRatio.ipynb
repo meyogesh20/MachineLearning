{
 "cells": [
  {
   "cell_type": "markdown",
   "id": "02f3f268-3348-4157-8d9f-c6f5a8ec2ca3",
   "metadata": {},
   "source": [
    "## Logistic regression\n",
    "-- Logistic regression is a supervised machine learning algorithm in data science. It is a type of classification algorithm that predicts a discrete or categorical outcome. For example, we can use a classification model to determine whether a loan is approved or not based on predictors such as savings amount, income and credit score.\n",
    "\n",
    "Logistic regression, like linear regression, is a type of linear model that examines the relationship between predictor variables (independent variables) and an output variable (the response, target or dependent variable). The key difference is that linear regression is used when the output is a continuous value—for example, predicting someone's credit score. Logistic regression is used when the outcome is categorical, such as whether a loan is approved or not.\n",
    "\n",
    "In logistic regression, the model predicts the probability that a specific outcome occurs. For instance, given someone’s financial profile, we might predict the probability that their loan is approved. The output of the model is a value between 0 and 1.\n",
    "\n",
    "To understand the logistic regression function (or the sigmoid function), we need a solid foundation on the following concepts:\n",
    "\n",
    "- Odds, log-odds and odds ratio\n",
    "- Coefficients of the logistic regression\n",
    "- Maximum likelihood estimates (MLE)  "
   ]
  },
  {
   "cell_type": "markdown",
   "id": "d9fd22e1-e849-462f-8147-2b242e556024",
   "metadata": {},
   "source": [
    "## Odds, log-odds and odds ratio\n",
    "\n",
    "1. *The odds* of an event with probability (p) is define d as the chance of the event happening define by the chance of the event not happening.\n",
    "\n",
    "## $$ \\frac{p}{1 - {p}} $$\n",
    "\n",
    "-- Imagine an event with 50% probability of occurring. This is \n",
    "### $ \\frac{0.5}{1-05}  = \\frac{0.5}{0.5} = \\frac{1}{1} $ \n",
    "or 1 to 1 odds of occurring"
   ]
  },
  {
   "cell_type": "code",
   "execution_count": null,
   "id": "c320366b-b53c-4114-b6c7-3e3df1f4aff5",
   "metadata": {},
   "outputs": [],
   "source": []
  },
  {
   "cell_type": "code",
   "execution_count": null,
   "id": "a7c88bc0-0522-4ccf-b431-d5f7b91a4a26",
   "metadata": {},
   "outputs": [],
   "source": []
  },
  {
   "cell_type": "code",
   "execution_count": null,
   "id": "37c2fc28-9ada-4e02-9f50-cd9772fb6f54",
   "metadata": {},
   "outputs": [],
   "source": []
  },
  {
   "cell_type": "code",
   "execution_count": null,
   "id": "338cff12-b663-45fc-8d58-df1051f196e6",
   "metadata": {},
   "outputs": [],
   "source": []
  },
  {
   "cell_type": "code",
   "execution_count": null,
   "id": "1028f7ce-8689-4443-867a-14a60567da6e",
   "metadata": {},
   "outputs": [],
   "source": []
  },
  {
   "cell_type": "code",
   "execution_count": null,
   "id": "f09a9a54-f3b7-481f-bb50-64c85d23230e",
   "metadata": {},
   "outputs": [],
   "source": []
  },
  {
   "cell_type": "code",
   "execution_count": null,
   "id": "80a829c6-df52-479e-a3a8-7140bf9a3c02",
   "metadata": {},
   "outputs": [],
   "source": []
  },
  {
   "cell_type": "code",
   "execution_count": null,
   "id": "d94e74de-15b9-4693-a01b-9718b5b9dbfa",
   "metadata": {},
   "outputs": [],
   "source": []
  },
  {
   "cell_type": "code",
   "execution_count": null,
   "id": "510da652-cb63-41be-92f7-6eeaead3d37e",
   "metadata": {},
   "outputs": [],
   "source": []
  },
  {
   "cell_type": "code",
   "execution_count": null,
   "id": "cf0f6b5c-f6fc-412a-88e0-a05cac72080c",
   "metadata": {},
   "outputs": [],
   "source": []
  },
  {
   "cell_type": "code",
   "execution_count": null,
   "id": "0367d1d7-e9c2-4655-bd54-ab94944a1aae",
   "metadata": {},
   "outputs": [],
   "source": []
  },
  {
   "cell_type": "code",
   "execution_count": null,
   "id": "6e8134ad-5146-49ed-8cbb-1c9c47e81bc2",
   "metadata": {},
   "outputs": [],
   "source": []
  },
  {
   "cell_type": "code",
   "execution_count": null,
   "id": "5000051f-e2cc-43d3-a08a-c8ecf25e532e",
   "metadata": {},
   "outputs": [],
   "source": []
  },
  {
   "cell_type": "code",
   "execution_count": null,
   "id": "c3f6aa9d-7477-475f-baeb-23d63426052b",
   "metadata": {},
   "outputs": [],
   "source": []
  },
  {
   "cell_type": "code",
   "execution_count": null,
   "id": "e9d471ac-3853-4d55-9e92-4164e4d164e6",
   "metadata": {},
   "outputs": [],
   "source": []
  },
  {
   "cell_type": "code",
   "execution_count": null,
   "id": "dfc2b689-35e0-48af-8386-bfd8f50584d0",
   "metadata": {},
   "outputs": [],
   "source": []
  },
  {
   "cell_type": "code",
   "execution_count": null,
   "id": "4f462961-4c28-4222-86d8-af8984b20139",
   "metadata": {},
   "outputs": [],
   "source": []
  }
 ],
 "metadata": {
  "kernelspec": {
   "display_name": "Python [conda env:base] *",
   "language": "python",
   "name": "conda-base-py"
  },
  "language_info": {
   "codemirror_mode": {
    "name": "ipython",
    "version": 3
   },
   "file_extension": ".py",
   "mimetype": "text/x-python",
   "name": "python",
   "nbconvert_exporter": "python",
   "pygments_lexer": "ipython3",
   "version": "3.12.7"
  }
 },
 "nbformat": 4,
 "nbformat_minor": 5
}
